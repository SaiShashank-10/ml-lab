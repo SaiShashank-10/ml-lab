{
 "cells": [
  {
   "cell_type": "code",
   "execution_count": null,
   "id": "3a810d30",
   "metadata": {
    "vscode": {
     "languageId": "plaintext"
    }
   },
   "outputs": [],
   "source": [
    "### SET 2 2nd ques TASK 7 ---\n",
    "import numpy as np\n",
    "import pandas as pd\n",
    "from sklearn.naive_bayes import GaussianNB\n",
    "from sklearn.preprocessing import LabelEncoder\n",
    "from sklearn.metrics import accuracy_score\n",
    "#from sklearn import cross_validation\n",
    "## Load the Dataset\n",
    "play_tennis = pd.read_csv(\"/content/PlayTennis.csv\")\n",
    "print(play_tennis.head())\n",
    "\n",
    "### Step 3: Convert categorical columns to numeric\n",
    "number = LabelEncoder()\n",
    "play_tennis['Outlook'] = number.fit_transform(play_tennis['Outlook'])\n",
    "play_tennis['Temperature'] = number.fit_transform(play_tennis['Temperature'])\n",
    "play_tennis['Humidity'] = number.fit_transform(play_tennis['Humidity'])\n",
    "play_tennis['Wind'] = number.fit_transform(play_tennis['Wind'])\n",
    "play_tennis['Play Tennis'] = number.fit_transform(play_tennis['Play Tennis'])\n",
    "\n",
    "### Step 4: Separate features and target\n",
    "features = [\"Outlook\", \"Temperature\", \"Humidity\", \"Wind\"]\n",
    "target = \"Play Tennis\"\n",
    "\n",
    "### Step 5: Display processed dataset\n",
    "print(play_tennis.head())\n",
    "\n",
    "### Step 6: Split dataset into training and testing\n",
    "from sklearn.model_selection import train_test_split\n",
    "features_train, features_test, target_train, target_test = train_test_split(play_tennis[features],play_tennis[target],test_size = 0.33,random_state = 54)\n",
    "\n",
    "### Step 7: Create and train the Naive Bayes model\n",
    "model = GaussianNB()\n",
    "model.fit(features_train, target_train)\n",
    "\n",
    "### Step 8: Make predictions\n",
    "pred = model.predict(features_test)\n",
    "\n",
    "### Step 9: Measure model accuracy\n",
    "accuracy = accuracy_score(target_test, pred)\n",
    "print(accuracy)\n",
    "\n",
    "### Step 10: Make a custom prediction\n",
    "print(model.predict([[2,1,0,1]]))"
   ]
  }
 ],
 "metadata": {
  "language_info": {
   "name": "python"
  }
 },
 "nbformat": 4,
 "nbformat_minor": 5
}
