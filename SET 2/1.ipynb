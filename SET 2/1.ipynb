{
 "cells": [
  {
   "cell_type": "code",
   "execution_count": null,
   "id": "e19470ee",
   "metadata": {
    "vscode": {
     "languageId": "plaintext"
    }
   },
   "outputs": [],
   "source": [
    "### SET 2 1st ques TASK 2A\n",
    "from sklearn.preprocessing import StandardScaler\n",
    "import pandas\n",
    "import numpy\n",
    "# data set link\n",
    "# preparating of dataframe using the data at given link and defined columnslist \n",
    "dataframe = pandas.read_csv(r'/content/diabetes.csv', \n",
    "names = ['preg', 'plas', 'pres', 'skin', 'test', 'mass', 'pedi', 'age', 'class'])\n",
    "array = dataframe.values\n",
    "print(array)\n",
    "# separate array into input and output components\n",
    "X = array[:, 0:8]\n",
    "Y = array[:, 8]\n",
    "scaler = StandardScaler().fit(X)\n",
    "rescaledX = scaler.transform(X)\n",
    "# summarize transformed data\n",
    "numpy.set_printoptions(precision = 3)\n",
    "print(rescaledX[0:5,:])"
   ]
  }
 ],
 "metadata": {
  "language_info": {
   "name": "python"
  }
 },
 "nbformat": 4,
 "nbformat_minor": 5
}
