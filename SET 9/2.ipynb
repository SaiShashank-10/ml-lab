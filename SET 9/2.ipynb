{
 "cells": [
  {
   "cell_type": "code",
   "execution_count": null,
   "id": "710e8421",
   "metadata": {
    "vscode": {
     "languageId": "plaintext"
    }
   },
   "outputs": [],
   "source": [
    "2nd question:\n",
    "\n",
    "from pandas import DataFrame as df\n",
    "student={\n",
    "          \"Name\":[\"A\",\"B\",\"C\",\"D\",\"E\"],\n",
    "          \"RNo.\":[\"1\",\"2\",\"3\",\"4\",\"5\"],\n",
    "          \"Jno.\":[\"10\",\"7\",\"11\",\"9\",\"30\"]\n",
    "      }\n",
    "data=df(student)\n",
    "x=data.to_csv(r\"\\student.csv\",index=None,header=True)\n",
    "print(data)\n",
    "\n",
    "import pandas as pd\n",
    "read=pd.read_csv(r\"\\student.csv\",names=[\"I\",\"J\",\"K\"],skiprows=1)\n",
    "print(read)"
   ]
  }
 ],
 "metadata": {
  "language_info": {
   "name": "python"
  }
 },
 "nbformat": 4,
 "nbformat_minor": 5
}
