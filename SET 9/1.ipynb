{
 "cells": [
  {
   "cell_type": "code",
   "execution_count": null,
   "id": "dd65690c",
   "metadata": {
    "vscode": {
     "languageId": "plaintext"
    }
   },
   "outputs": [],
   "source": [
    "1st question:\n",
    "\n",
    "from sklearn.datasets import load_iris \n",
    "from sklearn.neighbors import KNeighborsClassifier  \n",
    "import numpy as np \n",
    "from sklearn.model_selection import train_test_split  \n",
    "\n",
    "iris_dataset=load_iris() \n",
    "print(\"\\n IRIS FEATURES \\\\ TARGET NAMES: \", iris_dataset.target_names)  \n",
    "\n",
    "for i in range(len(iris_dataset.target_names)): \n",
    "    print(\"\\n[{0}]:[{1}]\".format(i,iris_dataset.target_names[i])) \n",
    "print(\"\\n IRIS DATA :\\n\",iris_dataset[\"data\"]) \n",
    "print(\"\\n Target :\\n\",iris_dataset[\"target\"])\n",
    "\n",
    "X_train, X_test, y_train, y_test = train_test_split(iris_dataset[\"data\"], iris_dataset[\"target\"], random_state=0) \n",
    "kn = KNeighborsClassifier(n_neighbors=1)  \n",
    "kn.fit(X_train, y_train) \n",
    "x_new = np.array([[5, 2.9, 1, 0.2]])  \n",
    "\n",
    "print(\"\\n XNEW \\n\",x_new) \n",
    "prediction = kn.predict(x_new) \n",
    "print(\"\\n Predicted target value: {}\\n\".format(prediction))  \n",
    "print(\"\\n Predicted feature name: {}\\n\".format(iris_dataset[\"target_names\"][prediction])) \n",
    "\n",
    "for i in range(len(X_test)): \n",
    "    x = X_test[i] \n",
    "    x_new = np.array([x])  \n",
    "    prediction = kn.predict(x_new) \n",
    "    print(\"\\n XNEW \\n\",x_new) \n",
    "    print(\"\\n Actual : {0} {1}, Predicted:{2}{3}\".format(y_test[i],iris_dataset[\"target_names\"][y_test[i]],prediction,iris_dataset[\"target_names\"][prediction])) \n",
    "    \n",
    "print(\"\\n\\n TEST SCORE[ACCURACY]: {:.2f}\\n\".format(kn.score(X_test, y_test)))"
   ]
  }
 ],
 "metadata": {
  "language_info": {
   "name": "python"
  }
 },
 "nbformat": 4,
 "nbformat_minor": 5
}
