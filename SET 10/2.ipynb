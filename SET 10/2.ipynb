{
 "cells": [
  {
   "cell_type": "code",
   "execution_count": null,
   "id": "51faec29",
   "metadata": {
    "vscode": {
     "languageId": "plaintext"
    }
   },
   "outputs": [],
   "source": [
    "import matplotlib.pyplot as plt\n",
    "from sklearn.datasets import make_blobs\n",
    "from sklearn.cluster import Birch\n",
    "\n",
    "dataset,cluster=make_blobs(n_samples=600,centers=8,cluster_std=0.75,random_state=0)\n",
    "\n",
    "model=Birch(branching_factor=50,n_clusters=None,threshold=1.5)\n",
    "\n",
    "model.fit(dataset)\n",
    "\n",
    "pred=model.predict(dataset)\n",
    "\n",
    "plt.scatter(dataset[:,0],dataset[:,1],c=pred,cmap=\"rainbow\",alpha=0.7,edgecolor='b')\n",
    "plt.show()"
   ]
  }
 ],
 "metadata": {
  "language_info": {
   "name": "python"
  }
 },
 "nbformat": 4,
 "nbformat_minor": 5
}
