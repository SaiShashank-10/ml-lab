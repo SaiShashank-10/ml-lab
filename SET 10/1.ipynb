{
 "cells": [
  {
   "cell_type": "code",
   "execution_count": null,
   "id": "72485adb",
   "metadata": {
    "vscode": {
     "languageId": "plaintext"
    }
   },
   "outputs": [],
   "source": [
    "Task-10:\n",
    "\n",
    "import numpy as np\n",
    "\n",
    "X=np.array(([2,9],[1,5],[3,6]),dtype=float)\n",
    "y=np.array(([92],[86],[89]),dtype=float)\n",
    "\n",
    "X=X/np.amax(X,axis=0)\n",
    "y=y/100\n",
    "\n",
    "lr=0.1\n",
    "epoch=7000\n",
    "inputlayer=2\n",
    "hiddenlayer=3\n",
    "outputlayer=1\n",
    "\n",
    "def sigmoid(x):\n",
    "    return 1/(1+np.exp(-x))\n",
    "    \n",
    "def sigmoid_derivatives(x):\n",
    "    return x*(1-x)\n",
    "\n",
    "wh=np.random.uniform(size=(inputlayer,hiddenlayer))\n",
    "bh=np.random.uniform(size=(1,hiddenlayer))\n",
    "wout=np.random.uniform(size=(hiddenlayer,outputlayer))\n",
    "bout=np.random.uniform(size=(1,outputlayer))\n",
    "\n",
    "for _ in range(epoch):\n",
    "    hinp1=np.dot(X,wh)\n",
    "    hinp=hinp1+bh\n",
    "    houtput=sigmoid(hinp)\n",
    "    outinp1=np.dot(houtput,wout)\n",
    "    outinp=outinp1+bout\n",
    "    output=sigmoid(outinp)\n",
    "    \n",
    "    E0=y-output\n",
    "    outgrad=sigmoid_derivatives(output)\n",
    "    d_output=E0*outgrad \n",
    "    Eh=np.dot(d_output,wout.T)\n",
    "    hgrad=sigmoid_derivatives(houtput)\n",
    "    h_output=Eh*hgrad\n",
    "    \n",
    "    wout+=np.dot(houtput.T,d_output)*lr\n",
    "    bout+=np.sum(d_output)*lr\n",
    "    wh+=np.dot(X.T,h_output)*lr\n",
    "    bh+=np.sum(h_output)*lr\n",
    "    \n",
    "print(\"Input : \\n\"+str(X))\n",
    "print(\"Final Output: \\n\"+str(y))\n",
    "print(\"Expected output: \\n\"+str(output))"
   ]
  }
 ],
 "metadata": {
  "language_info": {
   "name": "python"
  }
 },
 "nbformat": 4,
 "nbformat_minor": 5
}
