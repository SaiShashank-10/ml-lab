{
 "cells": [
  {
   "cell_type": "code",
   "execution_count": null,
   "id": "c904b4ef",
   "metadata": {
    "vscode": {
     "languageId": "plaintext"
    }
   },
   "outputs": [],
   "source": [
    "## SET 1 - 2nd Ques\n",
    "### Step 1: Importing required libraries\n",
    "import os\n",
    "import numpy as np\n",
    "import pandas as pd\n",
    "import matplotlib.pyplot as plt\n",
    "from sklearn import tree, metrics\n",
    "from sklearn.model_selection import train_test_split\n",
    "import pylab\n",
    "\n",
    "### Step 2: Load the dataset\n",
    "data=pd.read_csv('/content/cardata.csv',names=['buying','maint','doors','persons','lug_boot','safety','class'])\n",
    "print(data)\n",
    "\n",
    "### Step 3: Basic info about the data\n",
    "data.head()\n",
    "data.info()\n",
    "\n",
    "### Step 4: Encode target variable (class)\n",
    "data['class'],class_names = pd.factorize(data['class'])\n",
    "print(class_names)\n",
    "print(data['class'].unique())\n",
    "\n",
    "### Step 5: Encode other categorical columns\n",
    "data['buying'],_ = pd.factorize(data['buying'])\n",
    "data['maint'],_ = pd.factorize(data['maint'])\n",
    "data['doors'],_ = pd.factorize(data['doors'])\n",
    "data['persons'],_ = pd.factorize(data['persons'])\n",
    "data['lug_boot'],_ = pd.factorize(data['lug_boot'])\n",
    "data['safety'],_ = pd.factorize(data['safety'])\n",
    "\n",
    "### Step 6: Display the encoded data\n",
    "print(data)\n",
    "data.head()\n",
    "data.info()\n",
    "\n",
    "### Step 7: Separate features and target\n",
    "X = data.iloc[:,:-1]\n",
    "y = data.iloc[:,-1]\n",
    "\n",
    "# Step 8: Split the dataset into training and testing data\n",
    "X_train, X_test, y_train, y_test = train_test_split(X, y, test_size=0.3, random_state=0)\n",
    "\n",
    "# Step 9: Train the Decision Tree model\n",
    "dtree = tree.DecisionTreeClassifier(criterion='entropy', max_depth=3, random_state=0)\n",
    "dtree.fit(X_train, y_train)\n",
    "\n",
    "#Step 10: Make predictions\n",
    "y_pred = dtree.predict(X_test)\n",
    "\n",
    "# Step 11: Evaluate performance\n",
    "cnf_matrix = metrics.confusion_matrix(y_test, y_pred)\n",
    "print(cnf_matrix)\n",
    "\n",
    "### Step 12: Count misclassified samples\n",
    "count_misclassified = (y_test != y_pred).sum()\n",
    "print('Misclassified samples: {}'.format(count_misclassified))\n",
    "    \n",
    "### Step 13: Calculate model accuracy\n",
    "accuracy = metrics.accuracy_score(y_test, y_pred)\n",
    "print('Accuracy: {:.2f}'.format(accuracy))\n",
    "\n",
    "plt.figure(figsize=(12,8))\n",
    "tree.plot_tree(dtree, feature_names=X.columns, class_names=class_names, filled=True)\n",
    "plt.show()"
   ]
  }
 ],
 "metadata": {
  "language_info": {
   "name": "python"
  }
 },
 "nbformat": 4,
 "nbformat_minor": 5
}
