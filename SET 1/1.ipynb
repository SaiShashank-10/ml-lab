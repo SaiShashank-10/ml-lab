{
 "cells": [
  {
   "cell_type": "code",
   "execution_count": null,
   "id": "b8794ce3",
   "metadata": {
    "vscode": {
     "languageId": "plaintext"
    }
   },
   "outputs": [],
   "source": [
    "## SET 1 - ques 1\n",
    "### TASK 1\n",
    "import pandas as pd\n",
    "data = pd.read_csv('/content/cardata.csv')\n",
    "print(data)\n",
    "\n",
    "from pandas import DataFrame\n",
    "cars = {\n",
    "    'Brand': ['Honda', 'BMW', 'Ford', 'Audi'],\n",
    "    'Price': [200000, 2560437, 3456875, 34568970],\n",
    "    'Year': [2028, 2005, 2025, 2026]\n",
    "}\n",
    "df = DataFrame(cars, columns=['Brand', 'Price'])\n",
    "\n",
    "export_csv = df.to_csv('/content/export_csv.csv', index = None, header = True)"
   ]
  },
  {
   "cell_type": "code",
   "execution_count": null,
   "id": "ae58afef",
   "metadata": {
    "vscode": {
     "languageId": "plaintext"
    }
   },
   "outputs": [],
   "source": []
  }
 ],
 "metadata": {
  "language_info": {
   "name": "python"
  }
 },
 "nbformat": 4,
 "nbformat_minor": 5
}
